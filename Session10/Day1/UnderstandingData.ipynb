{
 "cells": [
  {
   "cell_type": "code",
   "execution_count": 1,
   "metadata": {
    "slideshow": {
     "slide_type": "skip"
    }
   },
   "outputs": [],
   "source": [
    "import numpy as np\n",
    "import pandas as pd\n",
    "\n",
    "import matplotlib.pyplot as plt\n",
    "\n",
    "from understanding_helper_functions import *"
   ]
  },
  {
   "cell_type": "code",
   "execution_count": 2,
   "metadata": {
    "slideshow": {
     "slide_type": "skip"
    }
   },
   "outputs": [],
   "source": [
    "#%matplotlib notebook"
   ]
  },
  {
   "cell_type": "markdown",
   "metadata": {
    "slideshow": {
     "slide_type": "slide"
    }
   },
   "source": [
    "# Understanding Data\n",
    "\n",
    "## (or, lies I've been told about statistics)\n",
    "\n",
    "#### Version 0.1\n",
    "\n",
    "-----\n",
    "\n",
    "By AA Miller (Northwestern/Adler Planetarium)\n",
    "\n",
    "5 Sep 2019"
   ]
  },
  {
   "cell_type": "markdown",
   "metadata": {
    "slideshow": {
     "slide_type": "slide"
    }
   },
   "source": [
    "According to the [DSFP curriculum](https://astrodatascience.org/curriculum), this entire week is going to be devoted to statistics (an entire field unto itself). "
   ]
  },
  {
   "cell_type": "markdown",
   "metadata": {
    "slideshow": {
     "slide_type": "subslide"
    }
   },
   "source": [
    "In practice, however, statistics is too big a topic to fully tackle in a week. \n",
    "\n",
    "A more apt description for this week's theme is **models**, and this is a good thing, because everything in astronomy is a model (more on this in just a bit)."
   ]
  },
  {
   "cell_type": "markdown",
   "metadata": {
    "slideshow": {
     "slide_type": "slide"
    }
   },
   "source": [
    "Broadly speaking, we build models for two purposes:\n",
    "\n",
    "*forecasting*\n",
    "\n",
    "and\n",
    "\n",
    "*inference*."
   ]
  },
  {
   "cell_type": "markdown",
   "metadata": {
    "slideshow": {
     "slide_type": "subslide"
    }
   },
   "source": [
    "Forecasting is about predicting the outcome of some future, as of yet, unobserved event. \n",
    "\n",
    "This can be extremely useful if you have measured the velocity dispersion of some galaxy and you would like to know the mass of the black hole at the center of that galaxy.\n",
    "\n",
    "(*aside* – machine learning is essentially all about forecasting)"
   ]
  },
  {
   "cell_type": "markdown",
   "metadata": {
    "slideshow": {
     "slide_type": "subslide"
    }
   },
   "source": [
    "Inference is about understanding the fundamental relationship between different parameters. Inference can be used for forecasting (the otherway around isn't always true). "
   ]
  },
  {
   "cell_type": "markdown",
   "metadata": {
    "slideshow": {
     "slide_type": "subslide"
    }
   },
   "source": [
    "Inference is necessary for understanding physics. While the following statement can be incredibly useful, \"based on 10 measurements of a force applied to this ball, I predict that a newly applied force, $F_\\mathrm{new}$, will produce acceleration $F_\\mathrm{new}/m_\\mathrm{ball}$,\" it is far more useful to say $F = ma$ for any object with mass $m$.\n",
    "\n",
    "(*aside* – machine learning is not useful for inference)"
   ]
  },
  {
   "cell_type": "markdown",
   "metadata": {
    "slideshow": {
     "slide_type": "subslide"
    }
   },
   "source": [
    "Before we start any discussion of models, we need to back up and zoom out a bit, because models require..."
   ]
  },
  {
   "cell_type": "markdown",
   "metadata": {
    "slideshow": {
     "slide_type": "slide"
    }
   },
   "source": [
    "## Problem 1) Data"
   ]
  },
  {
   "cell_type": "markdown",
   "metadata": {
    "slideshow": {
     "slide_type": "slide"
    }
   },
   "source": [
    "At the core of everything we hope to accomplish with the DSFP stands a single common connection: data.\n",
    "\n",
    "Using a vast array of telescopes across the planet and in outter space we are able to collect data that allow us to unravel the mysteries of the universe!\n",
    "\n",
    "This naturally leads to the question:"
   ]
  },
  {
   "cell_type": "markdown",
   "metadata": {
    "slideshow": {
     "slide_type": "slide"
    }
   },
   "source": [
    "**Problem 1a**\n",
    "\n",
    "What is data?"
   ]
  },
  {
   "cell_type": "markdown",
   "metadata": {
    "slideshow": {
     "slide_type": "subslide"
    }
   },
   "source": [
    "*Take a few min to discuss this with your partner*"
   ]
  },
  {
   "cell_type": "markdown",
   "metadata": {
    "slideshow": {
     "slide_type": "subslide"
    }
   },
   "source": [
    "**Solution 1a**\n",
    "\n",
    "While we just discussed several different ideas about the nature of data, the main thing I want to emphasize is the following: data are *constants*."
   ]
  },
  {
   "cell_type": "markdown",
   "metadata": {
    "slideshow": {
     "slide_type": "subslide"
    }
   },
   "source": [
    "Hypothetical question – what if a data reduction pipeline changes (for the better), and, as a result the endproducts (i.e. data output) have changed? \n",
    "\n",
    "Doesn't this mean that the data have changed?"
   ]
  },
  {
   "cell_type": "markdown",
   "metadata": {
    "slideshow": {
     "slide_type": "subslide"
    }
   },
   "source": [
    "This is a subtle point, but, in this case the data have not changed. The output from the pipeline, which we often think of as \"data,\" is actually a *model*. Adjustments in the pipeline result in changes in the model, and any downstream analysis changes because the model has changed.\n",
    "\n",
    "Models vary, data don't."
   ]
  },
  {
   "cell_type": "markdown",
   "metadata": {
    "slideshow": {
     "slide_type": "subslide"
    }
   },
   "source": [
    "To clearly reiterate this point: imagine you want to determine the \"turn-off\" age for an open cluster. To do this, you would need to know the flux of each star in the cluster, which could then be compared to stellar evolution models."
   ]
  },
  {
   "cell_type": "markdown",
   "metadata": {
    "slideshow": {
     "slide_type": "subslide"
    }
   },
   "source": [
    "But wait!\n",
    "\n",
    "The stellar fluxes are themselves a model. Before LSST can report some flux plus or minus some uncertainty in a database, the project has to do the following: bias-subtract the raw CCD image (model #1), flat-field correct the bias-subtracted image (model #2), identify the pixel location of all the stars in the image (model #3), align the relative pixel-positions with a standard astrometric reference frame (model #4), determine the relative flux of every star and galaxy in the image (model #5), and convert those relative fluxes to absolute values by identifying \"standard\" stars with known absolute flux to calibrate the relative flux measurements (model #6)."
   ]
  },
  {
   "cell_type": "markdown",
   "metadata": {
    "slideshow": {
     "slide_type": "subslide"
    }
   },
   "source": [
    "So really, the flux of a star, which we would normally refer to as a data point for the stellar evolution model, is in fact a model of several models."
   ]
  },
  {
   "cell_type": "markdown",
   "metadata": {
    "slideshow": {
     "slide_type": "subslide"
    }
   },
   "source": [
    "This brings us back to the earlier claim: everything in astronomy is models. (it's models all the way down...)\n",
    "\n",
    "This should also make you a little nervous – have the uncertainties been properly estimated for each of those models, and if they have, have they been propagated to the final numbers that are available in the database?"
   ]
  },
  {
   "cell_type": "markdown",
   "metadata": {
    "slideshow": {
     "slide_type": "slide"
    }
   },
   "source": [
    "## Problem 2) Linear Models and Least-Squares Fitting"
   ]
  },
  {
   "cell_type": "markdown",
   "metadata": {
    "slideshow": {
     "slide_type": "slide"
    }
   },
   "source": [
    "Execute the cell below in order to populate your namespace with some data that we will use for the subsequent analysis."
   ]
  },
  {
   "cell_type": "code",
   "execution_count": 3,
   "metadata": {
    "slideshow": {
     "slide_type": "subslide"
    }
   },
   "outputs": [],
   "source": [
    "x, y, y_unc = pollute_namespace()"
   ]
  },
  {
   "cell_type": "markdown",
   "metadata": {
    "slideshow": {
     "slide_type": "slide"
    }
   },
   "source": [
    "You now have some data $x$ and $y$."
   ]
  },
  {
   "cell_type": "markdown",
   "metadata": {
    "slideshow": {
     "slide_type": "slide"
    }
   },
   "source": [
    "**Problem 2a**\n",
    "\n",
    "As a good data scientist, what is the first thing you should do with this data?"
   ]
  },
  {
   "cell_type": "code",
   "execution_count": 4,
   "metadata": {
    "slideshow": {
     "slide_type": "subslide"
    }
   },
   "outputs": [],
   "source": [
    "# complete"
   ]
  },
  {
   "cell_type": "markdown",
   "metadata": {
    "slideshow": {
     "slide_type": "subslide"
    }
   },
   "source": [
    "**Solution 2a**\n",
    "\n",
    "I intentionally mislead with the previous question. \n",
    "\n",
    "The most important thing to do with *any* new data is understand where the data came from and what they represent. While the data are constants, they represent measurements of some kind. Thus, I would argue the most important thing to do with this data is understand where they came from (others may disagree)."
   ]
  },
  {
   "cell_type": "markdown",
   "metadata": {
    "slideshow": {
     "slide_type": "subslide"
    }
   },
   "source": [
    "In this case, we have \"toy\" data that were randomly generated for today's lecture. In that sense, there are no units or specific measurements that otherwise need to be understood. "
   ]
  },
  {
   "cell_type": "markdown",
   "metadata": {
    "slideshow": {
     "slide_type": "slide"
    }
   },
   "source": [
    "**Problem 2b**\n",
    "\n",
    "Make a scatter plot of the data to understand the relationship between $x$ and $y$."
   ]
  },
  {
   "cell_type": "code",
   "execution_count": 5,
   "metadata": {
    "slideshow": {
     "slide_type": "subslide"
    }
   },
   "outputs": [
    {
     "data": {
      "image/png": "[encoded data removed]",
      "text/plain": [
       "<Figure size 432x288 with 1 Axes>"
      ]
     },
     "metadata": {
      "needs_background": "light"
     },
     "output_type": "display_data"
    }
   ],
   "source": [
    "fig, ax = plt.subplots()\n",
    "ax.plot(x, y, \"o\")\n",
    "ax.set_xlabel(\"x\")\n",
    "ax.set_ylabel(\"y\")\n",
    "plt.show()"
   ]
  },
  {
   "cell_type": "markdown",
   "metadata": {
    "slideshow": {
     "slide_type": "slide"
    }
   },
   "source": [
    "There is a very good chance, though I am not specifically assuming anything, that upon making the previous plot you had a thought along the lines of \"these points fall on a line\" or \"these data represent a linear relationship.\"  "
   ]
  },
  {
   "cell_type": "markdown",
   "metadata": {
    "slideshow": {
     "slide_type": "slide"
    }
   },
   "source": [
    "**Problem 2c** \n",
    "\n",
    "Is the assumption of linearity valid for the above data?\n",
    "\n",
    "Is it convenient?"
   ]
  },
  {
   "cell_type": "markdown",
   "metadata": {
    "slideshow": {
     "slide_type": "subslide"
    }
   },
   "source": [
    "*Take a few min to discuss this with your partner*"
   ]
  },
  {
   "cell_type": "markdown",
   "metadata": {
    "slideshow": {
     "slide_type": "subslide"
    }
   },
   "source": [
    "**Solution 2c**\n",
    "\n",
    "One of the lessons from this lecture is the following: *assumptions are dangerous*! In general, a linear relationship between data should only be assumed if there is a very strong theoretical motivation for such a relationship. Otherwise, the relationship could be just about anything, and inference based on an assumption of linearity may lead to dramatically incorrect conclusions (forecasting, on the other hand, may be just fine).\n",
    "\n",
    "That being said, assuming the data represent (are drawn) from a linear relationship is often very convenient. There are a large host of tools designed to solve this very problem."
   ]
  },
  {
   "cell_type": "markdown",
   "metadata": {
    "slideshow": {
     "slide_type": "slide"
    }
   },
   "source": [
    "Let us proceed with convenience and assume the data represent a linear relationship. In that case, to understand the underlying relationship between the data, we need to fit a line to the data. "
   ]
  },
  {
   "cell_type": "markdown",
   "metadata": {
    "slideshow": {
     "slide_type": "slide"
    }
   },
   "source": [
    "Nearly all statistical texts or courses start with the \"standard\" [least-squares fitting](https://en.wikipedia.org/wiki/Least_squares) procedure. In brief, least-squares minimizes the sum of the squared value of the residuals between the data and the fitting function.\n",
    "\n",
    "Furthermore, in the case of simple polynomial models, straightforward matrix multiplication can be used to determine an exact answer. That is, the model parameters that minimize the sum of the squares (we will skip the derivation for now)."
   ]
  },
  {
   "cell_type": "markdown",
   "metadata": {
    "slideshow": {
     "slide_type": "slide"
    }
   },
   "source": [
    "Instead, we will rely on google, which informs us that the easiest way to perform a linear least-squares fit to the above data is with [`np.polyfit`](https://docs.scipy.org/doc/numpy/reference/generated/numpy.polyfit.html), which performs a least-squares polynomial fit to two `numpy` arrays."
   ]
  },
  {
   "cell_type": "markdown",
   "metadata": {
    "slideshow": {
     "slide_type": "slide"
    }
   },
   "source": [
    "**Problem 2d**\n",
    "\n",
    "Use `np.polyfit()` to fit a line to the data. Overplot the best-fit line on the data."
   ]
  },
  {
   "cell_type": "code",
   "execution_count": 6,
   "metadata": {
    "slideshow": {
     "slide_type": "subslide"
    }
   },
   "outputs": [
    {
     "data": {
      "image/png": "[encoded data removed]",
      "text/plain": [
       "<Figure size 720x576 with 2 Axes>"
      ]
     },
     "metadata": {
      "needs_background": "light"
     },
     "output_type": "display_data"
    }
   ],
   "source": [
    "p = np.polyfit(x, y, deg=1)\n",
    "p_eval = np.poly1d(p)\n",
    "\n",
    "xp = np.linspace(0, 1000, 1000)\n",
    "y_pred = p_eval(xp)\n",
    "\n",
    "fig = plt.figure(figsize=(10,8))\n",
    "ax = plt.subplot2grid((3,1), (0, 0), rowspan=2)\n",
    "ax_res = plt.subplot2grid((3,1), (2, 0), sharex=ax)\n",
    "\n",
    "ax.plot(x, y, \"o\")\n",
    "ax.plot(xp, y_pred)\n",
    "ax.set_ylabel(\"y\")\n",
    "\n",
    "y_pred = p_eval(x)\n",
    "\n",
    "ax_res.plot(x, (y-y_pred)/y_pred, \"o\")\n",
    "ax_res.axhline(0, color=\"tab:orange\")\n",
    "ax_res.set_xlabel(\"x\")\n",
    "ax_res.set_ylabel(\"y\")\n",
    "\n",
    "plt.show()"
   ]
  },
  {
   "cell_type": "markdown",
   "metadata": {
    "slideshow": {
     "slide_type": "slide"
    }
   },
   "source": [
    "There is a very good chance, though, again, I am not specifically assuming anything, that for the previous plots that you plotted `x` along the abscissa and `y` along the ordinate. \n",
    "\n",
    "[Honestly, there's no one to blame if this is the case, this has essentially been drilled into all of us from the moment we started making plots. In fact, in `matplotlib` we cannot change the abscissa label without adjusting the `xlabel`.]"
   ]
  },
  {
   "cell_type": "markdown",
   "metadata": {
    "slideshow": {
     "slide_type": "slide"
    }
   },
   "source": [
    "This leads us to an important question, however. What if we flip `y` and `x`? \n",
    "\n",
    "Does that change the results for the fit?"
   ]
  },
  {
   "cell_type": "markdown",
   "metadata": {
    "slideshow": {
     "slide_type": "slide"
    }
   },
   "source": [
    "**Problem 2e**\n",
    "\n",
    "Perform a linear least-squares fit to `x` vs. `y` (or if you already fit this, then reverse the axes). As above, plot the data and the best-fit model.\n",
    "\n",
    "To test if the relation is the same between the two fits, compare the predicted `y` value for both models corresponding to `x = 50`."
   ]
  },
  {
   "cell_type": "code",
   "execution_count": 7,
   "metadata": {
    "slideshow": {
     "slide_type": "subslide"
    }
   },
   "outputs": [
    {
     "name": "stdout",
     "output_type": "stream",
     "text": [
      "For y vs. x, we find y = 1.6729x + 83.8515\n",
      "\t for x=50 we would forecast y=167.49\n",
      "For x vs. y, we find x = 0.5549y + -12.7899\n",
      "\t for x=50 we would forecast y=113.16\n"
     ]
    },
    {
     "data": {
      "image/png": "[encoded data removed]",
      "text/plain": [
       "<Figure size 432x360 with 2 Axes>"
      ]
     },
     "metadata": {
      "needs_background": "light"
     },
     "output_type": "display_data"
    }
   ],
   "source": [
    "p_yx = np.polyfit(y, x, 1)\n",
    "p_yx_eval = np.poly1d(p_yx)\n",
    "\n",
    "fig = plt.figure(figsize=(6,5))\n",
    "ax = plt.subplot2grid((3,1), (0, 0), rowspan=2)\n",
    "ax_res = plt.subplot2grid((3,1), (2, 0), sharex=ax)\n",
    "\n",
    "ax.plot(y, x, 'o')\n",
    "ax.plot([-150,2000], p_yx_eval([-150,2000]))\n",
    "ax.set_ylabel('x', fontsize=14)\n",
    "\n",
    "ax_res.plot(y, x - p_yx_eval(y), 'o')\n",
    "ax_res.axhline(color='C1')\n",
    "ax_res.set_ylabel('residuals', fontsize=14)\n",
    "ax_res.set_xlabel('y', fontsize=14)\n",
    "plt.setp(ax.get_xticklabels(), visible=False)\n",
    "\n",
    "fig.tight_layout()\n",
    "\n",
    "print(\"For y vs. x, we find y = {:.4f}x + {:.4f}\".format(p[0], p[1]))\n",
    "print(\"\\t for x=50 we would forecast y={:.2f}\".format(p_eval(50)))\n",
    "print(\"For x vs. y, we find x = {:.4f}y + {:.4f}\".format(p_yx[0], p_yx[1]))\n",
    "print(\"\\t for x=50 we would forecast y={:.2f}\".format((50 - p_yx[1])/p_yx[0]))"
   ]
  },
  {
   "cell_type": "markdown",
   "metadata": {
    "slideshow": {
     "slide_type": "slide"
    }
   },
   "source": [
    "We have now uncovered lie #1! The relationship between $x$ and $y$ is *not* the same as the relationship between $y$ and $x$ (as far as least-squares fitting is concerned). \n",
    "\n",
    "Wait?! This is sorta like saying $F = ma$, but $a \\neq F/m$. \n",
    "\n",
    "How can this be?"
   ]
  },
  {
   "cell_type": "markdown",
   "metadata": {
    "slideshow": {
     "slide_type": "subslide"
    }
   },
   "source": [
    "There are a couple essential assumptions that go into standard least-squares fitting:\n",
    "\n",
    "1. There is one dimension along which the data have negligible uncertainties\n",
    "2. Along the other dimension **all** of the uncertainties can be described via Gaussians of known variance\n",
    "\n",
    "These two conditions are *rarely* met for astronomical data. While condition 1 can be satisfied (e.g., time series data where there is essentially no uncertainty on the time of the observations), I contend that condition 2 is rarely, if ever, satisfied."
   ]
  },
  {
   "cell_type": "markdown",
   "metadata": {
    "slideshow": {
     "slide_type": "slide"
    }
   },
   "source": [
    "## Problem 3) Lies, Damned Lies, and Statistics"
   ]
  },
  {
   "cell_type": "markdown",
   "metadata": {
    "slideshow": {
     "slide_type": "slide"
    }
   },
   "source": [
    "While I may have stretched the definition of lie above, there are several misconceptions associated with model fitting (some of which are a direct consequence of using least-squares) that we should address."
   ]
  },
  {
   "cell_type": "markdown",
   "metadata": {
    "slideshow": {
     "slide_type": "slide"
    }
   },
   "source": [
    "**Lie #2**\n",
    "\n",
    "For a 2-dimensional data set with one dependent variable (i.e. $y$ depends on $x$) and $n$ observations, a polynomial of the $n^\\mathrm{th}$ degree can \"perfectly\" fit the data?"
   ]
  },
  {
   "cell_type": "code",
   "execution_count": 8,
   "metadata": {
    "slideshow": {
     "slide_type": "subslide"
    }
   },
   "outputs": [
    {
     "data": {
      "image/png": "[encoded data removed]",
      "text/plain": [
       "<Figure size 432x288 with 1 Axes>"
      ]
     },
     "metadata": {
      "needs_background": "light"
     },
     "output_type": "display_data"
    }
   ],
   "source": [
    "n_obs_n_poly()"
   ]
  },
  {
   "cell_type": "markdown",
   "metadata": {
    "slideshow": {
     "slide_type": "subslide"
    }
   },
   "source": [
    "This \"lie\" can only be true if the data are singularly valued at every value of the dependent variable. Polynomials of the form $y = \\sum_n a_n x^n$ cannot take on multiple values of $y$ at a single value for $x$."
   ]
  },
  {
   "cell_type": "markdown",
   "metadata": {
    "slideshow": {
     "slide_type": "slide"
    }
   },
   "source": [
    "**Lie #3**\n",
    "\n",
    "The model that minimizes the $\\chi^2$ is best.\n",
    "\n",
    "(or a slightly more nuanced version of this statement – the model with $\\chi^2$ per degree of freedom is closest to 1 is best)"
   ]
  },
  {
   "cell_type": "code",
   "execution_count": 9,
   "metadata": {
    "slideshow": {
     "slide_type": "subslide"
    }
   },
   "outputs": [
    {
     "data": {
      "image/png": "[encoded data removed]",
      "text/plain": [
       "<Figure size 504x576 with 3 Axes>"
      ]
     },
     "metadata": {
      "needs_background": "light"
     },
     "output_type": "display_data"
    }
   ],
   "source": [
    "chi2_example()"
   ]
  },
  {
   "cell_type": "markdown",
   "metadata": {
    "slideshow": {
     "slide_type": "subslide"
    }
   },
   "source": [
    "In this case we see that increasing the order of the polynomial fit to the data lowers the \"reduced\" $\\chi^2$, getting a value that is much much closer to 1. \n",
    "\n",
    "However, a \"chi-by-eye\" examination of the two models presented here suggests that there is absolutely no way that the $14^\\mathrm{th}$-order polynomial provides a better explanation of the relationship between $y$ and $x$. Certainly, none of us would use this model for forecasting."
   ]
  },
  {
   "cell_type": "markdown",
   "metadata": {
    "slideshow": {
     "slide_type": "subslide"
    }
   },
   "source": [
    "This should make you very weary of any $\\chi^2$-minimization techniques as a method to identify the \"best-fit\" model.\n",
    "\n",
    "(You will nevertheless find this in all sorts of papers throughout the literature.)\n",
    "\n",
    "(Full disclosure - I have been guilty of this in the past)"
   ]
  },
  {
   "cell_type": "markdown",
   "metadata": {
    "slideshow": {
     "slide_type": "slide"
    }
   },
   "source": [
    "This raises an important and critical question: how does one decide which model is \"best\"?\n",
    "\n",
    "(This is well beyond the scope of this lecture, but we will talk about this on Thursday and Friday)"
   ]
  },
  {
   "cell_type": "markdown",
   "metadata": {
    "slideshow": {
     "slide_type": "slide"
    }
   },
   "source": [
    "**Lie #3**\n",
    "\n",
    "You cannot fit a model with more free parameters than there are data points."
   ]
  },
  {
   "cell_type": "markdown",
   "metadata": {
    "slideshow": {
     "slide_type": "slide"
    }
   },
   "source": [
    "Suppose you have the following data:"
   ]
  },
  {
   "cell_type": "code",
   "execution_count": 10,
   "metadata": {
    "slideshow": {
     "slide_type": "subslide"
    }
   },
   "outputs": [
    {
     "data": {
      "image/png": "[encoded data removed]",
      "text/plain": [
       "<Figure size 432x288 with 1 Axes>"
      ]
     },
     "metadata": {
      "needs_background": "light"
     },
     "output_type": "display_data"
    }
   ],
   "source": [
    "noisy_plot()"
   ]
  },
  {
   "cell_type": "markdown",
   "metadata": {
    "slideshow": {
     "slide_type": "subslide"
    }
   },
   "source": [
    "If you also suppose that $y$ varies linearly with $x$ (perhaps you have some theory that guides you towards this intuition), but that these data are produced via some noisy process, then you could write down the probability for any individual observation $y_i$ as:\n",
    "\n",
    "$$P(y_i) = \\frac{1}{\\sqrt{2\\pi\\sigma_i^2}} \\exp{-\\frac{(y_i - m x_i - b)^2}{2\\sigma_i^2}}$$\n",
    "\n",
    "where $m$ is the slope of the line, $b$ is the intercept, and $\\sigma_i$ is the *unknown* uncertainty on the $i^\\mathrm{th}$ observation.\n",
    "\n",
    "(note - I am being a little sloppy in my notation)"
   ]
  },
  {
   "cell_type": "markdown",
   "metadata": {
    "slideshow": {
     "slide_type": "subslide"
    }
   },
   "source": [
    "The probability of all of the observations is then the product of the probability for each observation:\n",
    "\n",
    "$$P = \\prod_i P(y_i)$$\n",
    "\n",
    "and the model for the data now has 20 parameters ($m$, $b$, and 1 $\\sigma_i$ for each of the 18 observations) and only 18 observations."
   ]
  },
  {
   "cell_type": "markdown",
   "metadata": {
    "slideshow": {
     "slide_type": "slide"
    }
   },
   "source": [
    "Surely this is hopeless; we cannot possibly constrain $m$ and $b$, right? ...\n",
    "\n",
    "**right?**"
   ]
  },
  {
   "cell_type": "code",
   "execution_count": null,
   "metadata": {
    "slideshow": {
     "slide_type": "subslide"
    }
   },
   "outputs": [
    {
     "name": "stdout",
     "output_type": "stream",
     "text": [
      "Fitting a 20 parameter model with 18 data points...\n"
     ]
    }
   ],
   "source": [
    "nuissance_model()"
   ]
  },
  {
   "cell_type": "markdown",
   "metadata": {
    "slideshow": {
     "slide_type": "slide"
    }
   },
   "source": [
    "This is somewhat amazing.\n",
    "\n",
    "We have some data, we have no idea what the uncertainties are on the individual observations, and yet(!), we are able to recover the correct slope and intercept of the line.\n",
    "\n",
    "(Note - we will discuss the particulars of the above model in greater detail later this week. I would rarely recommend the adopted model in practice!)"
   ]
  },
  {
   "cell_type": "markdown",
   "metadata": {
    "slideshow": {
     "slide_type": "slide"
    }
   },
   "source": [
    "I hope at this stage I've convinced you that some common tropes regarding least-squares fitting do not always apply. \n",
    "\n",
    "I also hope that I've raised some concerns on your end about the best methods for determining the slope and intercept of linearly related data."
   ]
  },
  {
   "cell_type": "markdown",
   "metadata": {
    "slideshow": {
     "slide_type": "slide"
    }
   },
   "source": [
    "Now on to another major problem for least-squares fitting..."
   ]
  },
  {
   "cell_type": "markdown",
   "metadata": {
    "slideshow": {
     "slide_type": "slide"
    }
   },
   "source": [
    "## Problem 4) Outliers"
   ]
  },
  {
   "cell_type": "markdown",
   "metadata": {
    "slideshow": {
     "slide_type": "slide"
    }
   },
   "source": [
    "Suppose you have the following data set (*and* that you have reason to believe that the data are drawn from a linear relationship):"
   ]
  },
  {
   "cell_type": "code",
   "execution_count": null,
   "metadata": {
    "slideshow": {
     "slide_type": "subslide"
    }
   },
   "outputs": [],
   "source": [
    "plot_mix_model()"
   ]
  },
  {
   "cell_type": "markdown",
   "metadata": {
    "slideshow": {
     "slide_type": "slide"
    }
   },
   "source": [
    "**Problem 4a**\n",
    "\n",
    "These data \"seem like\" they have been drawn from a linear relationship, and you may want to know the slope and intercept of that line, but there are some outliers. \n",
    "\n",
    "What do you do?"
   ]
  },
  {
   "cell_type": "markdown",
   "metadata": {
    "slideshow": {
     "slide_type": "subslide"
    }
   },
   "source": [
    "*Take a minute to discuss with your partner*"
   ]
  },
  {
   "cell_type": "markdown",
   "metadata": {
    "slideshow": {
     "slide_type": "slide"
    }
   },
   "source": [
    "Previously, we used least-squares fitting to determine the model parameters. Let's try that again, with one minor modification, we are going to assign a weight to each observation equal to the inverse of the variance for that observation.\n",
    "\n",
    "(Note - [`np.polyfit()`](https://docs.scipy.org/doc/numpy/reference/generated/numpy.polyfit.html) wants $1/\\sigma_i$ as the weight, not $1/\\sigma_i^2$)"
   ]
  },
  {
   "cell_type": "code",
   "execution_count": null,
   "metadata": {
    "slideshow": {
     "slide_type": "slide"
    }
   },
   "outputs": [],
   "source": [
    "weighted_least_squares()"
   ]
  },
  {
   "cell_type": "markdown",
   "metadata": {
    "slideshow": {
     "slide_type": "slide"
    }
   },
   "source": [
    "We can immediately see that weighted least-squares fitting does not work well in this case. \n",
    "\n",
    "We need to try another approach."
   ]
  },
  {
   "cell_type": "markdown",
   "metadata": {
    "slideshow": {
     "slide_type": "slide"
    }
   },
   "source": [
    "Can we just throw away the outliers? \n",
    "\n",
    "The challenge then is definitively identifying what is and what is not an outlier. In this case it seems like there are 4 outliers, but what about the point below the line at $x \\sim{23}$?"
   ]
  },
  {
   "cell_type": "markdown",
   "metadata": {
    "slideshow": {
     "slide_type": "subslide"
    }
   },
   "source": [
    "One can use an iterative procedure, often referred to as $k\\sigma$ clipping to remove outliers. The psuedo code is:\n",
    "\n",
    " - select some $k$ for clipping\n",
    " - fit model to data\n",
    " - identify all observations that are $> k\\sigma$ away from the best-fit model\n",
    " - remove the outliers\n",
    " - repeat the fit and remove process until no outliers remain"
   ]
  },
  {
   "cell_type": "markdown",
   "metadata": {
    "slideshow": {
     "slide_type": "subslide"
    }
   },
   "source": [
    "There are still two major problems: how to choose $k$? \n",
    "\n",
    "(Is an observation that is $5.00001 \\sigma$ off really all that worse than an observation that is $4.99999 \\sigma$ off?)\n",
    "\n",
    "The \"outliers\" are present in the initial fit, and as a result, they bias the model towards their location (for least-squares) and reduce the probability that they will be rejected as outliers."
   ]
  },
  {
   "cell_type": "markdown",
   "metadata": {
    "slideshow": {
     "slide_type": "slide"
    }
   },
   "source": [
    "Ultimately, the challenge with a least-squares approach and outliers is the use of a distance-squared \"loss function.\" Skipping the derivation for now, the \"best\" model from least-squares comes from \"minimizing the $\\chi^2$\" or \"maximizing the likelihood\" (these are the same thing):\n",
    "\n",
    "$$\\mathrm{best} = \\min{\\sum_i \\frac{1}{2\\sigma_i^2}(y - \\mathrm{model})^2}$$"
   ]
  },
  {
   "cell_type": "markdown",
   "metadata": {
    "slideshow": {
     "slide_type": "subslide"
    }
   },
   "source": [
    "The term being minimized in this case is the \"loss,\" and with a squared loss (as above) outliers play a far more significant role than observations that are close to the underlying relationship. "
   ]
  },
  {
   "cell_type": "markdown",
   "metadata": {
    "slideshow": {
     "slide_type": "slide"
    }
   },
   "source": [
    "In practice, any loss function can be adopted. An alternative approach to \"rejecting\" outliers is to instead, demphasize them, which removes the decision about what to throw away and what to keep. \n",
    "\n",
    "The [Huber loss](https://en.wikipedia.org/wiki/Huber_loss) function is  a good way to accomplish this goal. Briefly, the Huber loss is quadratic, but it transitions to linear at some (typically large) critical value  $c$."
   ]
  },
  {
   "cell_type": "code",
   "execution_count": null,
   "metadata": {
    "slideshow": {
     "slide_type": "slide"
    }
   },
   "outputs": [],
   "source": [
    "huber_plot()"
   ]
  },
  {
   "cell_type": "markdown",
   "metadata": {
    "slideshow": {
     "slide_type": "slide"
    }
   },
   "source": [
    "If we apply the Huber loss to this data set, we find a fit that looks much better:"
   ]
  },
  {
   "cell_type": "code",
   "execution_count": null,
   "metadata": {
    "slideshow": {
     "slide_type": "subslide"
    }
   },
   "outputs": [],
   "source": [
    "minimize_huber()"
   ]
  },
  {
   "cell_type": "markdown",
   "metadata": {
    "slideshow": {
     "slide_type": "slide"
    }
   },
   "source": [
    "However, there should still be something that is nagging at you a little bit – how do you choose the value for $c$? \n",
    "\n",
    "The truth is, there is no specific optimal choice of $c$, and thus, using the Huber loss function also requires an arbitrary decision. "
   ]
  },
  {
   "cell_type": "markdown",
   "metadata": {
    "slideshow": {
     "slide_type": "slide"
    }
   },
   "source": [
    "There has to be a better way!\n",
    "\n",
    "(Indeed, there is, as we will see throughout the week...)"
   ]
  },
  {
   "cell_type": "markdown",
   "metadata": {
    "slideshow": {
     "slide_type": "slide"
    }
   },
   "source": [
    "## Problem 5) Probability Theory"
   ]
  },
  {
   "cell_type": "markdown",
   "metadata": {
    "slideshow": {
     "slide_type": "slide"
    }
   },
   "source": [
    "Suppose you have some event, which we will call $A$. We define the probability of event $A$ occurring as:\n",
    "\n",
    "$$P(A).$$"
   ]
  },
  {
   "cell_type": "markdown",
   "metadata": {
    "slideshow": {
     "slide_type": "slide"
    }
   },
   "source": [
    "Now suppose we want to know the probability that both event $A$ and event $B$ occur: $P(A \\cap B)$. At first glance, it seems like this ought to be the product of the probability of $A$ and the probability of $B$:\n",
    "\n",
    "$$P(A \\cap B) = P(A)\\,P(B).$$\n",
    "\n",
    "However, this can only be true if $A$ and $B$ are *independent*."
   ]
  },
  {
   "cell_type": "markdown",
   "metadata": {
    "slideshow": {
     "slide_type": "slide"
    }
   },
   "source": [
    "To see why this is true, imagine a single coin. If event $A$ is a flip landing in heads, and event $B$ is a flip landing in tails, then $P(A)\\,P(B) = 1/4$. However, the chances that a single coin flip results in both heads *and* tails is clearly 0. "
   ]
  },
  {
   "cell_type": "markdown",
   "metadata": {
    "slideshow": {
     "slide_type": "slide"
    }
   },
   "source": [
    "The probability of $A$ *and* $B$ therefore requires a statement about conditional probability:\n",
    "\n",
    "$$P(A \\cap B) = P(A\\mid{B})\\,P(B),$$\n",
    "\n",
    "which should be read as \"the probability of $A$ and $B$ is equal to the probability of $A$ given $B$ multiplied by the probability of $B$.\""
   ]
  },
  {
   "cell_type": "markdown",
   "metadata": {
    "slideshow": {
     "slide_type": "slide"
    }
   },
   "source": [
    "The probability of $A$ and $B$ must be equal to the probability of $B$ and $A$, which leads to:\n",
    "\n",
    "$$P(A\\mid{B})\\,P(B) = P(B\\mid{A})\\,P(A),$$\n",
    "\n",
    "which we can rearrange as:\n",
    "\n",
    "$$P(A\\mid{B}) = \\frac{P(B\\mid{A})\\,P(A)}{P(B)}.$$\n"
   ]
  },
  {
   "cell_type": "markdown",
   "metadata": {
    "slideshow": {
     "slide_type": "slide"
    }
   },
   "source": [
    "This is Bayes' Law. It is 100% percent true.\n",
    "\n",
    "At times you may encounter arguments or opinions that are \"anti-Bayes.\" I want to emphasize that these sentiments have to do with the interpretation of Bayes' Law, and not Bayes' Law itself.\n",
    "\n",
    "We will cover the interpretation of Bayes' Law in  much greater detail this afternoon..."
   ]
  },
  {
   "cell_type": "markdown",
   "metadata": {
    "slideshow": {
     "slide_type": "slide"
    }
   },
   "source": [
    "## Problem 6) Forecasting"
   ]
  },
  {
   "cell_type": "code",
   "execution_count": null,
   "metadata": {
    "slideshow": {
     "slide_type": "skip"
    }
   },
   "outputs": [],
   "source": [
    "x, y, y_unc = gen_mix_data()"
   ]
  },
  {
   "cell_type": "markdown",
   "metadata": {
    "slideshow": {
     "slide_type": "slide"
    }
   },
   "source": [
    "**Problem 6a**\n",
    "\n",
    "Using the data from problem **4**, create a forecast for the value of $y$ at $x=50$. Generate as many forecasts as you can - using different methods (i.e. a least-squares fit to 1st, 2nd, 3rd, 4th, etc order polynomials is the same method). These methods do not all need to pass the \"referee test.\"\n",
    "\n",
    "*Note* – it is required that you talk with and work with your partner on this exercise. This is neither a contest or a race. If you want to try something that your partner is not familiar with you must first fully explain the method prior to implementation."
   ]
  },
  {
   "cell_type": "code",
   "execution_count": null,
   "metadata": {
    "slideshow": {
     "slide_type": "slide"
    }
   },
   "outputs": [],
   "source": [
    "fig, ax = plt.subplots()\n",
    "ax.errorbar(x, y, yerr=y_unc, marker=\"o\", linewidth=0, elinewidth=1)\n",
    "ax.plot(50, y.mean(), \"o\")\n",
    "ax.set_xlabel(\"x\")\n",
    "ax.set_ylabel(\"y\")\n",
    "plt.show()"
   ]
  },
  {
   "cell_type": "code",
   "execution_count": null,
   "metadata": {},
   "outputs": [],
   "source": []
  }
 ],
 "metadata": {
  "kernelspec": {
   "display_name": "Python 3",
   "language": "python",
   "name": "python3"
  },
  "language_info": {
   "codemirror_mode": {
    "name": "ipython",
    "version": 3
   },
   "file_extension": ".py",
   "mimetype": "text/x-python",
   "name": "python",
   "nbconvert_exporter": "python",
   "pygments_lexer": "ipython3",
   "version": "3.8.5"
  }
 },
 "nbformat": 4,
 "nbformat_minor": 4
}
